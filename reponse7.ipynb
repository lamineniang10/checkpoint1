{
 "cells": [
  {
   "cell_type": "code",
   "execution_count": 4,
   "metadata": {},
   "outputs": [],
   "source": [
    "import math\n",
    "def racine_carre(*D, C=50, H=30): #création d'une fonction racine_carree avec qui signifie nombre de parametres inconnue\n",
    "    d_liste = list(D)# on converti les parametres fournis en un liste\n",
    "    sortie = list()# sorti est une liste qui permet de récupérer les résultats aprés l'opération de racine carré\n",
    "    for i in d_liste:\n",
    "        sortie.append(int(math.sqrt((2*C*i)/H) + 0.5))#on ajoute les resultat dans la [] sortie avec conversion en int\n",
    "        #on converti à l'entier le plus proche de notre résultat par exemple 1.2 donne 1 et 1.5 donne 2\n",
    "    return sortie #on retourne les resultat(les racines carré converties en entier)"
   ]
  },
  {
   "cell_type": "code",
   "execution_count": 8,
   "metadata": {},
   "outputs": [
    {
     "data": {
      "text/plain": [
       "[18, 22, 24]"
      ]
     },
     "execution_count": 8,
     "metadata": {},
     "output_type": "execute_result"
    }
   ],
   "source": [
    "racine_carre(100, 150, 180)"
   ]
  },
  {
   "cell_type": "code",
   "execution_count": null,
   "metadata": {},
   "outputs": [],
   "source": []
  }
 ],
 "metadata": {
  "kernelspec": {
   "display_name": "Python 3",
   "language": "python",
   "name": "python3"
  },
  "language_info": {
   "codemirror_mode": {
    "name": "ipython",
    "version": 3
   },
   "file_extension": ".py",
   "mimetype": "text/x-python",
   "name": "python",
   "nbconvert_exporter": "python",
   "pygments_lexer": "ipython3",
   "version": "3.8.5"
  }
 },
 "nbformat": 4,
 "nbformat_minor": 4
}
