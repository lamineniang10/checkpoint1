{
 "cells": [
  {
   "cell_type": "code",
   "execution_count": 1,
   "metadata": {},
   "outputs": [],
   "source": [
    "import math\n",
    "def racine_carre(*D, C=50, H=30):\n",
    "    d_liste = list(D)\n",
    "    sortie = list()\n",
    "    for i in d_liste:\n",
    "        sortie.append(int(math.sqrt((2*C*i)/H) + 0.5))\n",
    "    return sortie"
   ]
  },
  {
   "cell_type": "code",
   "execution_count": 2,
   "metadata": {},
   "outputs": [],
   "source": [
    "import math\n",
    "def racine_carre(*D, C=50, H=30):\n",
    "    d_liste = list(D)\n",
    "    sortie = list()\n",
    "    for i in d_liste:\n",
    "        sortie.append(int(math.sqrt((2*C*i)/H) + 0.5))\n",
    "    return sortie"
   ]
  },
  {
   "cell_type": "code",
   "execution_count": null,
   "metadata": {},
   "outputs": [],
   "source": []
  }
 ],
 "metadata": {
  "kernelspec": {
   "display_name": "Python 3",
   "language": "python",
   "name": "python3"
  },
  "language_info": {
   "codemirror_mode": {
    "name": "ipython",
    "version": 3
   },
   "file_extension": ".py",
   "mimetype": "text/x-python",
   "name": "python",
   "nbconvert_exporter": "python",
   "pygments_lexer": "ipython3",
   "version": "3.8.5"
  }
 },
 "nbformat": 4,
 "nbformat_minor": 4
}
